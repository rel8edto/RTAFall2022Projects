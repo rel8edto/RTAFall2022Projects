{
 "cells": [
  {
   "cell_type": "code",
   "execution_count": 35,
   "metadata": {},
   "outputs": [],
   "source": [
    "from bs4 import BeautifulSoup\n",
    "import re\n",
    "from urllib.request import urlopen\n",
    "import wget\n",
    "import urllib.request\n",
    "import cairosvg\n",
    "import os "
   ]
  },
  {
   "cell_type": "code",
   "execution_count": 36,
   "metadata": {},
   "outputs": [
    {
     "name": "stdout",
     "output_type": "stream",
     "text": [
      "79 ['https://assets-global.website-files.com/60ba5ab948e1ea474960af3d/60ca15f09ba8c818a1324dcc_logo.svg', 'https://assets-global.website-files.com/60ba5ab948e1ea474960af3d/612e4860c13e677c0e9d0273_Websitething_V2.gif', 'https://assets-global.website-files.com/60ba5ab948e1ea474960af3d/612e4c886f7667a22d70c83a_Announcements.svg', 'https://assets-global.website-files.com/60ba5ab948e1ea474960af3d/612e4c8829bb71aa65a0d7f1_Blog.svg', 'https://assets-global.website-files.com/60ba5ab948e1ea474960af3d/612e4c89d13fba717f54d34b_Collateral.svg']\n"
     ]
    }
   ],
   "source": [
    "domain = \"https://www.trace3.com/partners\"\n",
    "page = urlopen(domain)\n",
    "soup = BeautifulSoup(page, 'html.parser')\n",
    "images = []\n",
    "for img in soup.findAll('img'):\n",
    "    images.append(img.get('src'))\n",
    "\n",
    "print(len(images),images[:5])"
   ]
  },
  {
   "cell_type": "code",
   "execution_count": 37,
   "metadata": {},
   "outputs": [],
   "source": [
    "path = r'C:\\Users\\Rui\\Desktop\\RTAFall2022Projects\\Logos\\download_image'"
   ]
  },
  {
   "cell_type": "code",
   "execution_count": 38,
   "metadata": {},
   "outputs": [
    {
     "name": "stdout",
     "output_type": "stream",
     "text": [
      "C:\\Users\\Rui\\Desktop\\RTAFall2022Projects\\Logos\\download_image\\?pid=1749932&fmt=gif [Errno 22] Invalid argument: 'C:\\\\Users\\\\Rui\\\\Desktop\\\\RTAFall2022Projects\\\\Logos\\\\download_image\\\\?pid=1749932&fmt=gif'\n",
      "C:\\Users\\Rui\\Desktop\\RTAFall2022Projects\\Logos\\download_image\\?pid=897540&fmt=gif [Errno 22] Invalid argument: 'C:\\\\Users\\\\Rui\\\\Desktop\\\\RTAFall2022Projects\\\\Logos\\\\download_image\\\\?pid=897540&fmt=gif'\n",
      "C:\\Users\\Rui\\Desktop\\RTAFall2022Projects\\Logos\\download_image\\0yxjRfxHLUCBjsvJjrgz HTTP Error 403: Forbidden\n"
     ]
    }
   ],
   "source": [
    "for image in images:\n",
    "    filename = path + '\\\\'+ image.split('/')[-1]\n",
    "    if filename[-3:] == 'svg':\n",
    "        try:\n",
    "            cairosvg.svg2png(url=image, write_to=filename)\n",
    "        except Exception as e:\n",
    "            print(filename, e)\n",
    "    else:\n",
    "        try:\n",
    "            urllib.request.urlretrieve(image, filename)\n",
    "        except Exception as e:\n",
    "            print(filename, e)"
   ]
  },
  {
   "cell_type": "code",
   "execution_count": 39,
   "metadata": {},
   "outputs": [],
   "source": [
    "def convert_to_png(path):\n",
    "    for file in os.listdir(path): \n",
    "        if not file.endswith(\".png\"): \n",
    "            try:\n",
    "                filename=file.split(\".\")\n",
    "                img = Image.open(path+'\\\\'+file)\n",
    "                target_name = str(filename[0]) + \".png\"\n",
    "                #rgb_image = img.convert('RGB')\n",
    "                new_img = img.copy()\n",
    "                img.close()\n",
    "                os.remove(path+'\\\\'+file)\n",
    "                new_img.save(path+'\\\\'+target_name)\n",
    "            except Exception as e:\n",
    "                print(e)"
   ]
  },
  {
   "cell_type": "code",
   "execution_count": 40,
   "metadata": {},
   "outputs": [],
   "source": [
    "convert_to_png(path)"
   ]
  }
 ],
 "metadata": {
  "kernelspec": {
   "display_name": "Python 3.8.12 ('code1')",
   "language": "python",
   "name": "python3"
  },
  "language_info": {
   "codemirror_mode": {
    "name": "ipython",
    "version": 3
   },
   "file_extension": ".py",
   "mimetype": "text/x-python",
   "name": "python",
   "nbconvert_exporter": "python",
   "pygments_lexer": "ipython3",
   "version": "3.8.12"
  },
  "orig_nbformat": 4,
  "vscode": {
   "interpreter": {
    "hash": "8f7ba26352ae29b19360da7fafd5e62044b724d8dc97be54c8de358f843d7b89"
   }
  }
 },
 "nbformat": 4,
 "nbformat_minor": 2
}
