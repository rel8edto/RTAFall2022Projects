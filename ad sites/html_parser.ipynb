{
 "cells": [
  {
   "cell_type": "code",
   "execution_count": 1,
   "metadata": {},
   "outputs": [],
   "source": [
    "import pandas as pd\n",
    "import re"
   ]
  },
  {
   "cell_type": "code",
   "execution_count": 2,
   "metadata": {},
   "outputs": [
    {
     "data": {
      "text/html": [
       "<div>\n",
       "<style scoped>\n",
       "    .dataframe tbody tr th:only-of-type {\n",
       "        vertical-align: middle;\n",
       "    }\n",
       "\n",
       "    .dataframe tbody tr th {\n",
       "        vertical-align: top;\n",
       "    }\n",
       "\n",
       "    .dataframe thead th {\n",
       "        text-align: right;\n",
       "    }\n",
       "</style>\n",
       "<table border=\"1\" class=\"dataframe\">\n",
       "  <thead>\n",
       "    <tr style=\"text-align: right;\">\n",
       "      <th></th>\n",
       "      <th>URL</th>\n",
       "      <th>Category</th>\n",
       "    </tr>\n",
       "  </thead>\n",
       "  <tbody>\n",
       "    <tr>\n",
       "      <th>0</th>\n",
       "      <td>http://30702100.com/</td>\n",
       "      <td>List of web with pictures</td>\n",
       "    </tr>\n",
       "    <tr>\n",
       "      <th>1</th>\n",
       "      <td>https://abouttechinfo.com/</td>\n",
       "      <td>List of web with pictures</td>\n",
       "    </tr>\n",
       "    <tr>\n",
       "      <th>2</th>\n",
       "      <td>http://www.allmedrcmsolutions.com/</td>\n",
       "      <td>List of web with pictures</td>\n",
       "    </tr>\n",
       "    <tr>\n",
       "      <th>3</th>\n",
       "      <td>https://appwyt.com/</td>\n",
       "      <td>List of web with pictures</td>\n",
       "    </tr>\n",
       "    <tr>\n",
       "      <th>4</th>\n",
       "      <td>http://www.b2bhg.com/</td>\n",
       "      <td>List of web with pictures</td>\n",
       "    </tr>\n",
       "    <tr>\n",
       "      <th>...</th>\n",
       "      <td>...</td>\n",
       "      <td>...</td>\n",
       "    </tr>\n",
       "    <tr>\n",
       "      <th>112</th>\n",
       "      <td>http://mg100.com.cn/</td>\n",
       "      <td>floating picture</td>\n",
       "    </tr>\n",
       "    <tr>\n",
       "      <th>113</th>\n",
       "      <td>https://www.afternic.com/forsale/bankoflincoln...</td>\n",
       "      <td>Go daddy</td>\n",
       "    </tr>\n",
       "    <tr>\n",
       "      <th>114</th>\n",
       "      <td>http://satelliteinternetaccess.net/</td>\n",
       "      <td>Go daddy</td>\n",
       "    </tr>\n",
       "    <tr>\n",
       "      <th>115</th>\n",
       "      <td>https://cloud-about.ru/</td>\n",
       "      <td>Comment section</td>\n",
       "    </tr>\n",
       "    <tr>\n",
       "      <th>116</th>\n",
       "      <td>https://www.designsauthority.com/</td>\n",
       "      <td>Comment section</td>\n",
       "    </tr>\n",
       "  </tbody>\n",
       "</table>\n",
       "<p>117 rows × 2 columns</p>\n",
       "</div>"
      ],
      "text/plain": [
       "                                                   URL  \\\n",
       "0                                 http://30702100.com/   \n",
       "1                           https://abouttechinfo.com/   \n",
       "2                   http://www.allmedrcmsolutions.com/   \n",
       "3                                  https://appwyt.com/   \n",
       "4                                http://www.b2bhg.com/   \n",
       "..                                                 ...   \n",
       "112                               http://mg100.com.cn/   \n",
       "113  https://www.afternic.com/forsale/bankoflincoln...   \n",
       "114                http://satelliteinternetaccess.net/   \n",
       "115                            https://cloud-about.ru/   \n",
       "116                  https://www.designsauthority.com/   \n",
       "\n",
       "                      Category  \n",
       "0    List of web with pictures  \n",
       "1    List of web with pictures  \n",
       "2    List of web with pictures  \n",
       "3    List of web with pictures  \n",
       "4    List of web with pictures  \n",
       "..                         ...  \n",
       "112           floating picture  \n",
       "113                   Go daddy  \n",
       "114                   Go daddy  \n",
       "115            Comment section  \n",
       "116            Comment section  \n",
       "\n",
       "[117 rows x 2 columns]"
      ]
     },
     "execution_count": 2,
     "metadata": {},
     "output_type": "execute_result"
    }
   ],
   "source": [
    "df = pd.read_csv(r'C:\\Users\\Rui\\Desktop\\RTAFall2022Projects\\ad sites\\ad sites.csv')\n",
    "df"
   ]
  },
  {
   "cell_type": "code",
   "execution_count": 3,
   "metadata": {},
   "outputs": [
    {
     "data": {
      "text/html": [
       "<div>\n",
       "<style scoped>\n",
       "    .dataframe tbody tr th:only-of-type {\n",
       "        vertical-align: middle;\n",
       "    }\n",
       "\n",
       "    .dataframe tbody tr th {\n",
       "        vertical-align: top;\n",
       "    }\n",
       "\n",
       "    .dataframe thead th {\n",
       "        text-align: right;\n",
       "    }\n",
       "</style>\n",
       "<table border=\"1\" class=\"dataframe\">\n",
       "  <thead>\n",
       "    <tr style=\"text-align: right;\">\n",
       "      <th></th>\n",
       "      <th>URL</th>\n",
       "      <th>Category</th>\n",
       "    </tr>\n",
       "  </thead>\n",
       "  <tbody>\n",
       "    <tr>\n",
       "      <th>27</th>\n",
       "      <td>http://aboutcegonsoft.com/</td>\n",
       "      <td>Calendar/archives</td>\n",
       "    </tr>\n",
       "    <tr>\n",
       "      <th>28</th>\n",
       "      <td>http://www.artechstudios.com/</td>\n",
       "      <td>Calendar/archives</td>\n",
       "    </tr>\n",
       "    <tr>\n",
       "      <th>29</th>\n",
       "      <td>https://www.askbrien.com/</td>\n",
       "      <td>Calendar/archives</td>\n",
       "    </tr>\n",
       "    <tr>\n",
       "      <th>30</th>\n",
       "      <td>https://www.beisboldata.com/</td>\n",
       "      <td>Calendar/archives</td>\n",
       "    </tr>\n",
       "    <tr>\n",
       "      <th>31</th>\n",
       "      <td>https://betersoft.at.ua/</td>\n",
       "      <td>Calendar/archives</td>\n",
       "    </tr>\n",
       "    <tr>\n",
       "      <th>32</th>\n",
       "      <td>http://www.biocomputingassociates.com/</td>\n",
       "      <td>Calendar/archives</td>\n",
       "    </tr>\n",
       "    <tr>\n",
       "      <th>33</th>\n",
       "      <td>https://biotechcomms.com/</td>\n",
       "      <td>Calendar/archives</td>\n",
       "    </tr>\n",
       "    <tr>\n",
       "      <th>34</th>\n",
       "      <td>http://c-community.net/</td>\n",
       "      <td>Calendar/archives</td>\n",
       "    </tr>\n",
       "    <tr>\n",
       "      <th>35</th>\n",
       "      <td>https://www.cleantechrecruits.com/</td>\n",
       "      <td>Calendar/archives</td>\n",
       "    </tr>\n",
       "    <tr>\n",
       "      <th>36</th>\n",
       "      <td>https://www.communitymedia.net/</td>\n",
       "      <td>Calendar/archives</td>\n",
       "    </tr>\n",
       "    <tr>\n",
       "      <th>37</th>\n",
       "      <td>http://indiawebspace.net/</td>\n",
       "      <td>Calendar/archives</td>\n",
       "    </tr>\n",
       "    <tr>\n",
       "      <th>38</th>\n",
       "      <td>http://learningtechnologies.zone/</td>\n",
       "      <td>Calendar/archives</td>\n",
       "    </tr>\n",
       "  </tbody>\n",
       "</table>\n",
       "</div>"
      ],
      "text/plain": [
       "                                       URL           Category\n",
       "27              http://aboutcegonsoft.com/  Calendar/archives\n",
       "28           http://www.artechstudios.com/  Calendar/archives\n",
       "29               https://www.askbrien.com/  Calendar/archives\n",
       "30            https://www.beisboldata.com/  Calendar/archives\n",
       "31                https://betersoft.at.ua/  Calendar/archives\n",
       "32  http://www.biocomputingassociates.com/  Calendar/archives\n",
       "33               https://biotechcomms.com/  Calendar/archives\n",
       "34                 http://c-community.net/  Calendar/archives\n",
       "35      https://www.cleantechrecruits.com/  Calendar/archives\n",
       "36         https://www.communitymedia.net/  Calendar/archives\n",
       "37               http://indiawebspace.net/  Calendar/archives\n",
       "38       http://learningtechnologies.zone/  Calendar/archives"
      ]
     },
     "execution_count": 3,
     "metadata": {},
     "output_type": "execute_result"
    }
   ],
   "source": [
    "pic = df[df['Category']=='Calendar/archives']\n",
    "pic"
   ]
  },
  {
   "cell_type": "code",
   "execution_count": 5,
   "metadata": {},
   "outputs": [],
   "source": [
    "from bs4 import BeautifulSoup\n",
    "from urllib.request import urlopen\n",
    "import requests"
   ]
  },
  {
   "cell_type": "code",
   "execution_count": 7,
   "metadata": {},
   "outputs": [
    {
     "name": "stdout",
     "output_type": "stream",
     "text": [
      "http://aboutcegonsoft.com/ --done\n",
      "http://www.artechstudios.com/ --error\n",
      "https://www.askbrien.com/ --error\n",
      "https://www.beisboldata.com/ --done\n",
      "https://betersoft.at.ua/ --done\n",
      "http://www.biocomputingassociates.com/ --done\n",
      "https://biotechcomms.com/ --done\n",
      "http://c-community.net/ --done\n",
      "https://www.cleantechrecruits.com/ --done\n",
      "https://www.communitymedia.net/ --done\n",
      "http://indiawebspace.net/ --error\n",
      "http://learningtechnologies.zone/ --done\n"
     ]
    }
   ],
   "source": [
    "all_html = {}\n",
    "for index, rows in pic.iterrows():\n",
    "    cur_domain = rows['URL']\n",
    "    try:\n",
    "        page = urlopen(cur_domain)\n",
    "        soup = BeautifulSoup(page, 'html.parser')\n",
    "        all_html[cur_domain] = soup\n",
    "        print(cur_domain, '--done')\n",
    "    except:\n",
    "        print(cur_domain,'--error')"
   ]
  },
  {
   "cell_type": "code",
   "execution_count": 8,
   "metadata": {},
   "outputs": [],
   "source": [
    "patterns = ['calendar']"
   ]
  },
  {
   "cell_type": "code",
   "execution_count": 9,
   "metadata": {},
   "outputs": [
    {
     "name": "stdout",
     "output_type": "stream",
     "text": [
      "http://aboutcegonsoft.com/ --found\n",
      "https://www.beisboldata.com/ --found\n",
      "https://betersoft.at.ua/ --not found\n",
      "http://www.biocomputingassociates.com/ --found\n",
      "https://biotechcomms.com/ --found\n",
      "http://c-community.net/ --found\n",
      "https://www.cleantechrecruits.com/ --not found\n",
      "https://www.communitymedia.net/ --found\n",
      "http://learningtechnologies.zone/ --found\n"
     ]
    }
   ],
   "source": [
    "for key, value in all_html.items():\n",
    "    for pattern in patterns:\n",
    "        if re.search(pattern, str(value)):\n",
    "            print(key, '--found')\n",
    "        else:\n",
    "            print(key, '--not found')"
   ]
  },
  {
   "cell_type": "code",
   "execution_count": null,
   "metadata": {},
   "outputs": [],
   "source": []
  }
 ],
 "metadata": {
  "kernelspec": {
   "display_name": "Python 3.8.12 ('code1')",
   "language": "python",
   "name": "python3"
  },
  "language_info": {
   "codemirror_mode": {
    "name": "ipython",
    "version": 3
   },
   "file_extension": ".py",
   "mimetype": "text/x-python",
   "name": "python",
   "nbconvert_exporter": "python",
   "pygments_lexer": "ipython3",
   "version": "3.8.12"
  },
  "orig_nbformat": 4,
  "vscode": {
   "interpreter": {
    "hash": "8f7ba26352ae29b19360da7fafd5e62044b724d8dc97be54c8de358f843d7b89"
   }
  }
 },
 "nbformat": 4,
 "nbformat_minor": 2
}
